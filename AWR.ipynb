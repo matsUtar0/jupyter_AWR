{
 "cells": [
  {
   "cell_type": "markdown",
   "metadata": {},
   "source": [
    "# AWRの順位データ取得"
   ]
  },
  {
   "cell_type": "markdown",
   "metadata": {},
   "source": [
    "第1引数にAWRのプロジェクト名、第2引数に取得対象日を指定して実行。\n",
    "\n",
    "【例】  \n",
    "python AWR.py 02_%E3%82%AB%E3%82%A4%E3%82%B7%E3%83%A3%E3%81%AE%E8%A9%95%E5%88%A4_Daily 2018-02-09"
   ]
  },
  {
   "cell_type": "markdown",
   "metadata": {},
   "source": [
    "## ライブラリのインストール"
   ]
  },
  {
   "cell_type": "code",
   "execution_count": 14,
   "metadata": {},
   "outputs": [],
   "source": [
    "import tarfile, json,os,urllib,requests,zipfile,sys,subprocess\n",
    "import pandas as pd\n",
    "from dotenv import load_dotenv, find_dotenv\n",
    "from urllib.parse import urlparse"
   ]
  },
  {
   "cell_type": "markdown",
   "metadata": {},
   "source": [
    "## 環境変数の指定"
   ]
  },
  {
   "cell_type": "code",
   "execution_count": 2,
   "metadata": {},
   "outputs": [],
   "source": [
    "#  ディレクトリから.envファイルを探す\n",
    "dotenv_path = find_dotenv()\n",
    "\n",
    "# 環境変数をロード\n",
    "load_dotenv(dotenv_path)\n",
    "\n",
    "# API_KEYに環境変数を代入\n",
    "token = os.environ.get(\"AWR_token\")"
   ]
  },
  {
   "cell_type": "markdown",
   "metadata": {},
   "source": [
    "## 引数の取得"
   ]
  },
  {
   "cell_type": "code",
   "execution_count": 3,
   "metadata": {},
   "outputs": [
    {
     "data": {
      "text/plain": [
       "'\\nargs = sys.argv\\nAPI_project = args[1]\\ndate = args[2]\\nend_date = args[3]\\n'"
      ]
     },
     "execution_count": 3,
     "metadata": {},
     "output_type": "execute_result"
    }
   ],
   "source": [
    "args = sys.argv\n",
    "API_project = args[1]\n",
    "date = args[2]"
   ]
  },
  {
   "cell_type": "markdown",
   "metadata": {},
   "source": [
    "## APIコール用のURLを生成"
   ]
  },
  {
   "cell_type": "code",
   "execution_count": 4,
   "metadata": {},
   "outputs": [],
   "source": [
    "url = 'https://api.awrcloud.com/v2/get.php?action=get&project={}&date={}&compression=zip&token={}'\n",
    "API_call = url.format(API_project,date,token)"
   ]
  },
  {
   "cell_type": "markdown",
   "metadata": {},
   "source": [
    "## 格納先ディレクトリの作成とファイル名の指定"
   ]
  },
  {
   "cell_type": "code",
   "execution_count": 5,
   "metadata": {
    "scrolled": false
   },
   "outputs": [],
   "source": [
    "# ディレクトリの作成\n",
    "directory = 'output/' + date + '/'\n",
    "try:\n",
    "    os.makedirs(directory)\n",
    "except FileExistsError:\n",
    "    pass\n",
    "\n",
    "# ファイル名の指定\n",
    "filename = date + '.zip'\n",
    "# 階層も含めたディレクトリ名の指定\n",
    "output =  directory + filename"
   ]
  },
  {
   "cell_type": "markdown",
   "metadata": {},
   "source": [
    "## Zipファイルをダウンロード・解凍し、jsonのリストを取得"
   ]
  },
  {
   "cell_type": "code",
   "execution_count": 6,
   "metadata": {},
   "outputs": [],
   "source": [
    "# Zipファイルのダウンロード\n",
    "r = requests.get(API_call, stream=True)\n",
    "with open(output, 'wb') as f:\n",
    "    for chunk in r.iter_content(chunk_size=1024):\n",
    "        if chunk:\n",
    "            f.write(chunk)\n",
    "            f.flush()\n",
    "\n",
    "# Zipファイルの格納\n",
    "zfile = zipfile.ZipFile(output)\n",
    "zfile.extractall(directory)\n",
    "\n",
    "# jsonリストの取得\n",
    "import glob\n",
    "file_list = glob.glob(directory + \"*.json\")"
   ]
  },
  {
   "cell_type": "markdown",
   "metadata": {},
   "source": [
    "## jsonをデータフレームに整形する関数"
   ]
  },
  {
   "cell_type": "code",
   "execution_count": 7,
   "metadata": {
    "scrolled": false
   },
   "outputs": [],
   "source": [
    "def json_to_df(target_file):\n",
    "    # jsonから辞書型へ変更\n",
    "    with open(target_file) as f:\n",
    "       data = json.load(f)\n",
    "\n",
    "    # 辞書からデータフレームへの変換\n",
    "    rankdata = pd.DataFrame.from_dict(data['rankdata'])\n",
    "\n",
    "    # 検索エンジン、キーワード、日付のデータを追加\n",
    "    rankdata['searchengine'] = data['searchengine']\n",
    "    rankdata['keyword'] = data['keyword']\n",
    "    rankdata['date'] = date\n",
    "\n",
    "    # urlからドメインを抜き出して['domain']に格納\n",
    "    for index, row in rankdata.iterrows():\n",
    "        rankdata.loc[index,'domain'] = urlparse(row['url']).netloc\n",
    "        \n",
    "    return rankdata"
   ]
  },
  {
   "cell_type": "markdown",
   "metadata": {},
   "source": [
    "## データフレームを結合し、csvにアウトプット"
   ]
  },
  {
   "cell_type": "code",
   "execution_count": 8,
   "metadata": {},
   "outputs": [],
   "source": [
    "# 空のデータフレームを作成\n",
    "ranking = pd.DataFrame()\n",
    "\n",
    "# jsonのリストをデータフレームに変換し、空のデータフレームに追加\n",
    "for target_file in file_list:\n",
    "    ranking = ranking.append(json_to_df(target_file))\n",
    "\n",
    "# 1KWにつき1ドメインになるよう重複削除\n",
    "ranking.drop_duplicates(['date', 'keyword','domain'])\n",
    "\n",
    "# csvに格納\n",
    "ranking.to_csv(\"result.csv\", index=False, mode='a', header=False)"
   ]
  },
  {
   "cell_type": "code",
   "execution_count": 15,
   "metadata": {
    "scrolled": true
   },
   "outputs": [
    {
     "data": {
      "text/plain": [
       "CompletedProcess(args=['jupyter', 'nbconvert', '--to', 'python', 'AWR.ipynb'], returncode=0)"
      ]
     },
     "execution_count": 15,
     "metadata": {},
     "output_type": "execute_result"
    }
   ],
   "source": [
    "# pyファイルに変換して保存\n",
    "subprocess.run(['jupyter', 'nbconvert', '--to', 'python', 'AWR.ipynb'])"
   ]
  },
  {
   "cell_type": "code",
   "execution_count": null,
   "metadata": {},
   "outputs": [],
   "source": []
  }
 ],
 "metadata": {
  "kernelspec": {
   "display_name": "Python 3",
   "language": "python",
   "name": "python3"
  },
  "language_info": {
   "codemirror_mode": {
    "name": "ipython",
    "version": 3
   },
   "file_extension": ".py",
   "mimetype": "text/x-python",
   "name": "python",
   "nbconvert_exporter": "python",
   "pygments_lexer": "ipython3",
   "version": "3.6.4"
  }
 },
 "nbformat": 4,
 "nbformat_minor": 2
}
